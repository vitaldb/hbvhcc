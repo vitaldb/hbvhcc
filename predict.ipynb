{
  "nbformat": 4,
  "nbformat_minor": 0,
  "metadata": {
    "colab": {
      "name": "predict.ipynb",
      "provenance": [],
      "collapsed_sections": [],
      "authorship_tag": "ABX9TyPGEg9Q4MvARIY1dGJ7VWvS",
      "include_colab_link": true
    },
    "kernelspec": {
      "name": "python3",
      "display_name": "Python 3"
    }
  },
  "cells": [
    {
      "cell_type": "markdown",
      "metadata": {
        "id": "view-in-github",
        "colab_type": "text"
      },
      "source": [
        "<a href=\"https://colab.research.google.com/github/vitaldb/hbvhcc/blob/main/predict.ipynb\" target=\"_parent\"><img src=\"https://colab.research.google.com/assets/colab-badge.svg\" alt=\"Open In Colab\"/></a>"
      ]
    },
    {
      "cell_type": "markdown",
      "metadata": {
        "id": "EVNIp6lwk5DD"
      },
      "source": [
        "# Prediction Model for Hepatocellular cardinoma in Hepatitis B patients"
      ]
    },
    {
      "cell_type": "code",
      "metadata": {
        "colab": {
          "base_uri": "https://localhost:8080/"
        },
        "id": "cHEggysIlr04",
        "outputId": "5936395e-8e97-468c-e485-0b777ffcc2e2"
      },
      "source": [
        "# recent version xgboost required\r\n",
        "!pip uninstall xgboost -y\r\n",
        "!pip install xgboost\r\n",
        "\r\n",
        "!wget https://github.com/vitaldb/hbvhcc/raw/main/model.json"
      ],
      "execution_count": null,
      "outputs": [
        {
          "output_type": "stream",
          "text": [
            "Uninstalling xgboost-0.90:\n",
            "  Successfully uninstalled xgboost-0.90\n",
            "Collecting xgboost\n",
            "\u001b[?25l  Downloading https://files.pythonhosted.org/packages/2e/57/bf5026701c384decd2b995eb39d86587a103ba4eb26f8a9b1811db0896d3/xgboost-1.3.3-py3-none-manylinux2010_x86_64.whl (157.5MB)\n",
            "\u001b[K     |████████████████████████████████| 157.5MB 71kB/s \n",
            "\u001b[?25hRequirement already satisfied: numpy in /usr/local/lib/python3.6/dist-packages (from xgboost) (1.19.5)\n",
            "Requirement already satisfied: scipy in /usr/local/lib/python3.6/dist-packages (from xgboost) (1.4.1)\n",
            "Installing collected packages: xgboost\n",
            "Successfully installed xgboost-1.3.3\n",
            "--2021-01-31 03:45:45--  https://github.com/vitaldb/hbvhcc/raw/main/model.json\n",
            "Resolving github.com (github.com)... 140.82.112.4\n",
            "Connecting to github.com (github.com)|140.82.112.4|:443... connected.\n",
            "HTTP request sent, awaiting response... 302 Found\n",
            "Location: https://raw.githubusercontent.com/vitaldb/hbvhcc/main/model.json [following]\n",
            "--2021-01-31 03:45:45--  https://raw.githubusercontent.com/vitaldb/hbvhcc/main/model.json\n",
            "Resolving raw.githubusercontent.com (raw.githubusercontent.com)... 151.101.0.133, 151.101.64.133, 151.101.128.133, ...\n",
            "Connecting to raw.githubusercontent.com (raw.githubusercontent.com)|151.101.0.133|:443... connected.\n",
            "HTTP request sent, awaiting response... 200 OK\n",
            "Length: 97677 (95K) [text/plain]\n",
            "Saving to: ‘model.json’\n",
            "\n",
            "model.json          100%[===================>]  95.39K  --.-KB/s    in 0.01s   \n",
            "\n",
            "2021-01-31 03:45:46 (6.92 MB/s) - ‘model.json’ saved [97677/97677]\n",
            "\n"
          ],
          "name": "stdout"
        }
      ]
    },
    {
      "cell_type": "code",
      "metadata": {
        "colab": {
          "base_uri": "https://localhost:8080/"
        },
        "id": "c8eh2Sx6k21M",
        "outputId": "a4fd1c74-e88c-4982-9abf-6dc3c68e54dd"
      },
      "source": [
        "import xgboost as xgb\r\n",
        "import numpy as np\r\n",
        "import sys\r\n",
        "import pickle\r\n",
        "\r\n",
        "# sample values\r\n",
        "male = 0\r\n",
        "age = 48\r\n",
        "e_t = 1\r\n",
        "lc = 1  # None for missing value\r\n",
        "plt = 172\r\n",
        "alb = 4.1\r\n",
        "tbil = 1.1\r\n",
        "alt = 122\r\n",
        "dna = 74279943\r\n",
        "hbeag = 1\r\n",
        "\r\n",
        "model = xgb.Booster()\r\n",
        "model.load_model('model.json')\r\n",
        "x = np.array([male, age, e_t, lc, plt, alb, tbil, alt, dna, hbeag]).astype(float)\r\n",
        "x = x[None, ...]\r\n",
        "x = xgb.DMatrix(x)\r\n",
        "y = model.predict(x)[0]\r\n",
        "\r\n",
        "print('score = {:.3f}'.format(y))"
      ],
      "execution_count": null,
      "outputs": [
        {
          "output_type": "stream",
          "text": [
            "score = 0.260\n"
          ],
          "name": "stdout"
        }
      ]
    }
  ]
}