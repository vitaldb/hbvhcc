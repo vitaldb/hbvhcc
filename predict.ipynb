{
  "nbformat": 4,
  "nbformat_minor": 0,
  "metadata": {
    "colab": {
      "name": "predict.ipynb",
      "provenance": [],
      "collapsed_sections": [],
      "authorship_tag": "ABX9TyPGEg9Q4MvARIY1dGJ7VWvS",
      "include_colab_link": true
    },
    "kernelspec": {
      "name": "python3",
      "display_name": "Python 3"
    }
  },
  "cells": [
    {
      "cell_type": "markdown",
      "metadata": {
        "id": "view-in-github",
        "colab_type": "text"
      },
      "source": [
        "<a href=\"https://colab.research.google.com/github/vitaldb/hbvhcc/blob/main/predict.ipynb\" target=\"_parent\"><img src=\"https://colab.research.google.com/assets/colab-badge.svg\" alt=\"Open In Colab\"/></a>"
      ]
    },
    {
      "cell_type": "markdown",
      "metadata": {
        "id": "EVNIp6lwk5DD"
      },
      "source": [
        "# Prediction Model for Hepatocellular cardinoma in Hepatitis B patients"
      ]
    },
    {
      "cell_type": "code",
      "metadata": {
        "id": "cHEggysIlr04"
      },
      "source": [
        "# recent version xgboost required\r\n",
        "!pip uninstall xgboost -y\r\n",
        "!pip install xgboost\r\n",
        "\r\n",
        "!wget https://github.com/vitaldb/hbvhcc/raw/main/model.json"
      ],
      "execution_count": null,
      "outputs": []
    },
    {
      "cell_type": "code",
      "metadata": {
        "id": "c8eh2Sx6k21M"
      },
      "source": [
        "import xgboost as xgb\r\n",
        "import numpy as np\r\n",
        "import sys\r\n",
        "import pickle\r\n",
        "\r\n",
        "# sample values\r\n",
        "male = 0\r\n",
        "age = 48\r\n",
        "e_t = 1\r\n",
        "lc = 1  # None for missing value\r\n",
        "plt = 172\r\n",
        "alb = 4.1\r\n",
        "tbil = 1.1\r\n",
        "alt = 122\r\n",
        "dna = 74279943\r\n",
        "hbeag = 1\r\n",
        "\r\n",
        "model = xgb.Booster()\r\n",
        "model.load_model('model.json')\r\n",
        "x = np.array([male, age, e_t, lc, plt, alb, tbil, alt, dna, hbeag]).astype(float)\r\n",
        "x = x[None, ...]\r\n",
        "x = xgb.DMatrix(x)\r\n",
        "y = model.predict(x)[0]\r\n",
        "\r\n",
        "print('score = {:.3f}'.format(y))"
      ],
      "execution_count": null,
      "outputs": []
    }
  ]
}